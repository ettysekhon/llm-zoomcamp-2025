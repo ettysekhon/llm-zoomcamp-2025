{
 "cells": [
  {
   "cell_type": "code",
   "execution_count": 8,
   "metadata": {},
   "outputs": [],
   "source": [
    "from fastembed import TextEmbedding\n",
    "import numpy as np"
   ]
  },
  {
   "cell_type": "code",
   "execution_count": 2,
   "metadata": {},
   "outputs": [],
   "source": [
    "model_handle = \"jinaai/jina-embeddings-v2-small-en\"\n"
   ]
  },
  {
   "cell_type": "code",
   "execution_count": 3,
   "metadata": {},
   "outputs": [],
   "source": [
    "model = TextEmbedding(model_handle)\n"
   ]
  },
  {
   "cell_type": "code",
   "execution_count": 6,
   "metadata": {},
   "outputs": [],
   "source": [
    "query = \"I just discovered the course. Can I join now?\"\n",
    "embeddings_gen = model.embed([query])\n",
    "embedding = next(embeddings_gen)\n"
   ]
  },
  {
   "cell_type": "code",
   "execution_count": 9,
   "metadata": {},
   "outputs": [
    {
     "name": "stdout",
     "output_type": "stream",
     "text": [
      "Embedding shape: (512,)\n",
      "Minimum value in embedding: -0.11726373551188797\n"
     ]
    }
   ],
   "source": [
    "print(\"Embedding shape:\", embedding.shape)\n",
    "print(\"Minimum value in embedding:\", np.min(embedding))\n"
   ]
  },
  {
   "cell_type": "code",
   "execution_count": 14,
   "metadata": {},
   "outputs": [
    {
     "name": "stdout",
     "output_type": "stream",
     "text": [
      "1.0\n",
      "q · q = 1.0\n"
     ]
    }
   ],
   "source": [
    "norm_q = np.linalg.norm(embedding)\n",
    "print(norm_q)\n",
    "dot_q_q = embedding.dot(embedding)\n",
    "print(\"q · q =\", dot_q_q)"
   ]
  },
  {
   "cell_type": "code",
   "execution_count": 15,
   "metadata": {},
   "outputs": [],
   "source": [
    "doc = \"Can I still join the course after the start date?\"\n",
    "emb_gen = model.embed([query, doc])\n"
   ]
  },
  {
   "cell_type": "code",
   "execution_count": 16,
   "metadata": {},
   "outputs": [],
   "source": [
    "# query vector\n",
    "q_vec = next(emb_gen)\n",
    "# document vector\n",
    "d_vec = next(emb_gen)\n"
   ]
  },
  {
   "cell_type": "code",
   "execution_count": 18,
   "metadata": {},
   "outputs": [
    {
     "name": "stdout",
     "output_type": "stream",
     "text": [
      "Cosine similarity between query and document: 0.9008528856818037\n"
     ]
    }
   ],
   "source": [
    "cos_sim = q_vec.dot(d_vec)\n",
    "print(\"Cosine similarity between query and document:\", cos_sim)"
   ]
  },
  {
   "cell_type": "code",
   "execution_count": 23,
   "metadata": {},
   "outputs": [],
   "source": [
    "query = \"I just discovered the course. Can I join now?\"\n",
    "q = next(model.embed([query]))"
   ]
  },
  {
   "cell_type": "code",
   "execution_count": 19,
   "metadata": {},
   "outputs": [],
   "source": [
    "documents = [\n",
    "    {\n",
    "        \"text\": \"Yes, even if you don't register, you're still eligible to submit the homeworks.\\nBe aware, however, that there will be deadlines for turning in the final projects. So don't leave everything for the last minute.\",\n",
    "        \"section\": \"General course-related questions\",\n",
    "        \"question\": \"Course - Can I still join the course after the start date?\",\n",
    "        \"course\": \"data-engineering-zoomcamp\",\n",
    "    },\n",
    "    {\n",
    "        \"text\": \"Yes, we will keep all the materials after the course finishes, so you can follow the course at your own pace after it finishes.\\nYou can also continue looking at the homeworks and continue preparing for the next cohort. I guess you can also start working on your final capstone project.\",\n",
    "        \"section\": \"General course-related questions\",\n",
    "        \"question\": \"Course - Can I follow the course after it finishes?\",\n",
    "        \"course\": \"data-engineering-zoomcamp\",\n",
    "    },\n",
    "    {\n",
    "        \"text\": \"The purpose of this document is to capture frequently asked technical questions\\nThe exact day and hour of the course will be 15th Jan 2024 at 17h00. The course will start with the first  “Office Hours'' live.1\\nSubscribe to course public Google Calendar (it works from Desktop only).\\nRegister before the course starts using this link.\\nJoin the course Telegram channel with announcements.\\nDon’t forget to register in DataTalks.Club's Slack and join the channel.\",\n",
    "        \"section\": \"General course-related questions\",\n",
    "        \"question\": \"Course - When will the course start?\",\n",
    "        \"course\": \"data-engineering-zoomcamp\",\n",
    "    },\n",
    "    {\n",
    "        \"text\": \"You can start by installing and setting up all the dependencies and requirements:\\nGoogle cloud account\\nGoogle Cloud SDK\\nPython 3 (installed with Anaconda)\\nTerraform\\nGit\\nLook over the prerequisites and syllabus to see if you are comfortable with these subjects.\",\n",
    "        \"section\": \"General course-related questions\",\n",
    "        \"question\": \"Course - What can I do before the course starts?\",\n",
    "        \"course\": \"data-engineering-zoomcamp\",\n",
    "    },\n",
    "    {\n",
    "        \"text\": \"Star the repo! Share it with friends if you find it useful ❣️\\nCreate a PR if you see you can improve the text or the structure of the repository.\",\n",
    "        \"section\": \"General course-related questions\",\n",
    "        \"question\": \"How can we contribute to the course?\",\n",
    "        \"course\": \"data-engineering-zoomcamp\",\n",
    "    },\n",
    "]"
   ]
  },
  {
   "cell_type": "code",
   "execution_count": 24,
   "metadata": {},
   "outputs": [],
   "source": [
    "texts = [doc[\"text\"] for doc in documents]\n",
    "emb_gen = model.embed(texts)\n"
   ]
  },
  {
   "cell_type": "code",
   "execution_count": 25,
   "metadata": {},
   "outputs": [],
   "source": [
    "V = np.stack([next(emb_gen) for _ in texts])\n"
   ]
  },
  {
   "cell_type": "code",
   "execution_count": 27,
   "metadata": {},
   "outputs": [
    {
     "name": "stdout",
     "output_type": "stream",
     "text": [
      "Cosine similarities for Q3: [0.76296845 0.81823784 0.80853973 0.71330785 0.73044995]\n"
     ]
    }
   ],
   "source": [
    "cosines = V.dot(q)\n",
    "print(\"Cosine similarities for Q3:\", cosines)\n"
   ]
  },
  {
   "cell_type": "code",
   "execution_count": 28,
   "metadata": {},
   "outputs": [
    {
     "name": "stdout",
     "output_type": "stream",
     "text": [
      "Best document index: 1\n"
     ]
    }
   ],
   "source": [
    "best_idx = np.argmax(cosines)\n",
    "print(\"Best document index:\", best_idx)\n"
   ]
  },
  {
   "cell_type": "code",
   "execution_count": 34,
   "metadata": {},
   "outputs": [
    {
     "name": "stdout",
     "output_type": "stream",
     "text": [
      "Cosine similarities [0.8514543  0.84365941 0.84082872 0.77551577 0.80860079]\n"
     ]
    }
   ],
   "source": [
    "full_texts = [doc[\"question\"] + \" \" + doc[\"text\"] for doc in documents]\n",
    "emb_full_gen = model.embed(full_texts)\n",
    "V_full = np.stack([next(emb_full_gen) for _ in full_texts])\n",
    "cos_full = V_full.dot(q)\n",
    "print(\"Cosine similarities\", cos_full)\n"
   ]
  },
  {
   "cell_type": "code",
   "execution_count": 36,
   "metadata": {},
   "outputs": [
    {
     "name": "stdout",
     "output_type": "stream",
     "text": [
      "Different - Q3 best=1, Q4 best=0\n"
     ]
    }
   ],
   "source": [
    "best_idx_full = np.argmax(cos_full)\n",
    "if best_idx_full != best_idx:\n",
    "    print(f\"Different - Q3 best={best_idx}, Q4 best={best_idx_full}\")\n",
    "else:\n",
    "    print(\"Same best document for Q3 and Q4.\")\n"
   ]
  },
  {
   "cell_type": "code",
   "execution_count": 37,
   "metadata": {},
   "outputs": [
    {
     "name": "stderr",
     "output_type": "stream",
     "text": [
      "Fetching 5 files: 100%|██████████| 5/5 [00:01<00:00,  3.63it/s]\n"
     ]
    }
   ],
   "source": [
    "model = TextEmbedding(\"BAAI/bge-small-en\")\n"
   ]
  },
  {
   "cell_type": "code",
   "execution_count": 39,
   "metadata": {},
   "outputs": [
    {
     "name": "stdout",
     "output_type": "stream",
     "text": [
      "Embedding shape: (384,)\n"
     ]
    }
   ],
   "source": [
    "dummy = next(model.embed([\"Hello world\"]))\n",
    "print(\"Embedding shape:\", dummy.shape)\n"
   ]
  },
  {
   "cell_type": "code",
   "execution_count": 40,
   "metadata": {},
   "outputs": [],
   "source": [
    "from qdrant_client import QdrantClient\n",
    "from qdrant_client.models import VectorParams, Distance, PointStruct\n",
    "import requests\n",
    "\n",
    "collection_name = \"ml-zoomcamp-faq\"\n",
    "client = QdrantClient(\"http://localhost:6333\")\n",
    "\n",
    "if not client.collection_exists(collection_name=collection_name):\n",
    "    client.create_collection(\n",
    "        collection_name=collection_name,\n",
    "        vectors_config=VectorParams(\n",
    "            size=384,\n",
    "            distance=Distance.COSINE,\n",
    "        ),\n",
    "    )"
   ]
  },
  {
   "cell_type": "code",
   "execution_count": 41,
   "metadata": {},
   "outputs": [],
   "source": [
    "docs_url = \"https://github.com/alexeygrigorev/llm-rag-workshop/raw/main/notebooks/documents.json\"\n",
    "documents_raw = requests.get(docs_url).json()\n"
   ]
  },
  {
   "cell_type": "code",
   "execution_count": 42,
   "metadata": {},
   "outputs": [],
   "source": [
    "documents = []\n",
    "for course in documents_raw:\n",
    "    if course[\"course\"] != \"machine-learning-zoomcamp\":\n",
    "        continue\n",
    "    for doc in course[\"documents\"]:\n",
    "        doc[\"course\"] = course[\"course\"]\n",
    "        documents.append(doc)\n"
   ]
  },
  {
   "cell_type": "code",
   "execution_count": 43,
   "metadata": {},
   "outputs": [
    {
     "data": {
      "text/plain": [
       "UpdateResult(operation_id=0, status=<UpdateStatus.COMPLETED: 'completed'>)"
      ]
     },
     "execution_count": 43,
     "metadata": {},
     "output_type": "execute_result"
    }
   ],
   "source": [
    "model = TextEmbedding(\"BAAI/bge-small-en\")\n",
    "texts = [d[\"question\"] + \" \" + d[\"text\"] for d in documents]\n",
    "emb_gen = model.embed(texts)\n",
    "\n",
    "points = []\n",
    "for idx, vec in enumerate(emb_gen):\n",
    "    points.append(PointStruct(id=idx, vector=vec, payload={\"text\": texts[idx]}))\n",
    "\n",
    "client.upsert(collection_name=collection_name, points=points)"
   ]
  },
  {
   "cell_type": "code",
   "execution_count": 44,
   "metadata": {},
   "outputs": [
    {
     "name": "stdout",
     "output_type": "stream",
     "text": [
      "Upserted 375 documents into 'ml-zoomcamp-faq'\n"
     ]
    }
   ],
   "source": [
    "print(f\"Upserted {len(points)} documents into '{collection_name}'\")"
   ]
  },
  {
   "cell_type": "code",
   "execution_count": 45,
   "metadata": {},
   "outputs": [],
   "source": [
    "model = TextEmbedding(\"BAAI/bge-small-en\")\n",
    "query = \"I just discovered the course. Can I join now?\"\n",
    "q_vec = next(model.embed([query]))"
   ]
  },
  {
   "cell_type": "code",
   "execution_count": 50,
   "metadata": {},
   "outputs": [
    {
     "name": "stdout",
     "output_type": "stream",
     "text": [
      "Top result score: 0.8703172\n"
     ]
    }
   ],
   "source": [
    "from qdrant_client import models\n",
    "response = client.query_points(\n",
    "    collection_name=collection_name,\n",
    "    query=models.Document(\n",
    "        text=\"I just discovered the course. Can I join now?\",\n",
    "        model=\"BAAI/bge-small-en\"\n",
    "    ),\n",
    "    limit=1,\n",
    "    with_payload=True,\n",
    ")\n",
    "top = response.points[0]\n",
    "print(\"Top result score:\", top.score)"
   ]
  }
 ],
 "metadata": {
  "kernelspec": {
   "display_name": ".venv",
   "language": "python",
   "name": "python3"
  },
  "language_info": {
   "codemirror_mode": {
    "name": "ipython",
    "version": 3
   },
   "file_extension": ".py",
   "mimetype": "text/x-python",
   "name": "python",
   "nbconvert_exporter": "python",
   "pygments_lexer": "ipython3",
   "version": "3.13.3"
  }
 },
 "nbformat": 4,
 "nbformat_minor": 2
}
