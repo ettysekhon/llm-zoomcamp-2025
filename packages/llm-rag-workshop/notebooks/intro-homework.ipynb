{
 "cells": [
  {
   "cell_type": "code",
   "execution_count": 12,
   "metadata": {},
   "outputs": [
    {
     "name": "stdout",
     "output_type": "stream",
     "text": [
      "{\n",
      "  \"name\" : \"59a3e847cf2e\",\n",
      "  \"cluster_name\" : \"docker-cluster\",\n",
      "  \"cluster_uuid\" : \"i7aYvniKSO65jzSJC_v-TA\",\n",
      "  \"version\" : {\n",
      "    \"number\" : \"9.0.1\",\n",
      "    \"build_flavor\" : \"default\",\n",
      "    \"build_type\" : \"docker\",\n",
      "    \"build_hash\" : \"73f7594ea00db50aa7e941e151a5b3985f01e364\",\n",
      "    \"build_date\" : \"2025-04-30T10:07:41.393025990Z\",\n",
      "    \"build_snapshot\" : false,\n",
      "    \"lucene_version\" : \"10.1.0\",\n",
      "    \"minimum_wire_compatibility_version\" : \"8.18.0\",\n",
      "    \"minimum_index_compatibility_version\" : \"8.0.0\"\n",
      "  },\n",
      "  \"tagline\" : \"You Know, for Search\"\n",
      "}\n"
     ]
    }
   ],
   "source": [
    "!curl http://localhost:9200"
   ]
  },
  {
   "cell_type": "markdown",
   "metadata": {},
   "source": [
    "The build hash for version `9.0.1` is `73f7594ea00db50aa7e941e151a5b3985f01e364`"
   ]
  },
  {
   "cell_type": "code",
   "execution_count": 13,
   "metadata": {},
   "outputs": [],
   "source": [
    "import requests\n",
    "\n",
    "docs_url = \"https://github.com/DataTalksClub/llm-zoomcamp/blob/main/01-intro/documents.json?raw=1\"\n",
    "docs_response = requests.get(docs_url)\n",
    "documents_raw = docs_response.json()\n",
    "\n",
    "documents = []\n",
    "\n",
    "for course in documents_raw:\n",
    "    course_name = course[\"course\"]\n",
    "\n",
    "    for doc in course[\"documents\"]:\n",
    "        doc[\"course\"] = course_name\n",
    "        documents.append(doc)\n"
   ]
  },
  {
   "cell_type": "code",
   "execution_count": 14,
   "metadata": {},
   "outputs": [
    {
     "data": {
      "text/plain": [
       "948"
      ]
     },
     "execution_count": 14,
     "metadata": {},
     "output_type": "execute_result"
    }
   ],
   "source": [
    "len(documents)\n"
   ]
  },
  {
   "cell_type": "code",
   "execution_count": 15,
   "metadata": {},
   "outputs": [
    {
     "name": "stdout",
     "output_type": "stream",
     "text": [
      "✔ ES reachable\n"
     ]
    }
   ],
   "source": [
    "import time\n",
    "from elasticsearch import Elasticsearch, ConnectionError\n",
    "\n",
    "es = Elasticsearch(\"http://localhost:9200\")\n",
    "index_name = \"course-questions\"\n",
    "\n",
    "for _ in range(30):\n",
    "    try:\n",
    "        if es.ping():\n",
    "            print(\"✔ ES reachable\")\n",
    "            break\n",
    "    except ConnectionError:\n",
    "        pass\n",
    "    print(\"…waiting for ping()…\")\n",
    "    time.sleep(1)\n",
    "else:\n",
    "    raise RuntimeError(\"ES did not respond to ping in 30s\")\n"
   ]
  },
  {
   "cell_type": "code",
   "execution_count": 16,
   "metadata": {},
   "outputs": [
    {
     "name": "stdout",
     "output_type": "stream",
     "text": [
      "Deleting existing 'course-questions' index...\n",
      "Deleted old index.\n",
      "Creating 'course-questions' index...\n",
      "Created index 'course-questions'\n"
     ]
    }
   ],
   "source": [
    "if es.indices.exists(index=\"course-questions\"):\n",
    "    print(\"Deleting existing 'course-questions' index...\")\n",
    "    es.indices.delete(index=\"course-questions\")\n",
    "    print(\"Deleted old index.\")\n",
    "\n",
    "print(\"Creating 'course-questions' index...\")\n",
    "index_settings = {\n",
    "    \"settings\": {\"number_of_shards\": 1, \"number_of_replicas\": 0},\n",
    "    \"mappings\": {\n",
    "        \"properties\": {\n",
    "            \"text\": {\"type\": \"text\"},\n",
    "            \"section\": {\"type\": \"text\"},\n",
    "            \"question\": {\"type\": \"text\"},\n",
    "            \"course\": {\"type\": \"keyword\"},\n",
    "        }\n",
    "    },\n",
    "}\n",
    "es.indices.create(index=\"course-questions\", body=index_settings)\n",
    "print(\"Created index 'course-questions'\")\n"
   ]
  },
  {
   "cell_type": "code",
   "execution_count": 17,
   "metadata": {},
   "outputs": [
    {
     "name": "stdout",
     "output_type": "stream",
     "text": [
      "Current blocks.read_only_allow_delete flag: None\n"
     ]
    }
   ],
   "source": [
    "settings = es.indices.get_settings(index=\"course-questions\")\n",
    "readonly_flag = settings[\"course-questions\"][\"settings\"][\"index\"].get(\n",
    "    \"blocks.read_only_allow_delete\"\n",
    ")\n",
    "print(\"Current blocks.read_only_allow_delete flag:\", readonly_flag)\n"
   ]
  },
  {
   "cell_type": "code",
   "execution_count": 7,
   "metadata": {},
   "outputs": [
    {
     "name": "stdout",
     "output_type": "stream",
     "text": [
      "Successfully indexed 948 documents into 'course-questions'.\n"
     ]
    }
   ],
   "source": [
    "from elasticsearch.helpers import bulk, BulkIndexError\n",
    "\n",
    "actions = [\n",
    "    {\"_index\": \"course-questions\", \"_id\": i, \"_source\": doc}\n",
    "    for i, doc in enumerate(documents)\n",
    "]\n",
    "es_with_timeout = es.options(request_timeout=600)\n",
    "\n",
    "try:\n",
    "    success_count, errors = bulk(\n",
    "        client=es_with_timeout,\n",
    "        actions=actions,\n",
    "        chunk_size=500,\n",
    "    )\n",
    "    print(f\"Successfully indexed {success_count} documents into 'course-questions'.\")\n",
    "    if errors:\n",
    "        print(\"Bulk returned errors (unexpected):\")\n",
    "        for err in errors[:5]:  # show up to the first 5\n",
    "            print(err)\n",
    "except BulkIndexError as bulk_err:\n",
    "    print(f\"Bulk indexing failed: {bulk_err.args[0]}\")\n",
    "    for i, item_err in enumerate(bulk_err.errors[:10], start=1):\n",
    "        print(f\"\\nError #{i}:\")\n",
    "        print(item_err)\n",
    "    raise\n"
   ]
  },
  {
   "cell_type": "code",
   "execution_count": 19,
   "metadata": {},
   "outputs": [],
   "source": [
    "def retrieve_documents(query, index_name=\"course-questions\", max_results=3, course=\"machine-learning-zoomcamp\"):\n",
    "    search_query = {\n",
    "        \"size\": max_results,\n",
    "        \"query\": {\n",
    "            \"bool\": {\n",
    "                \"must\": {\n",
    "                    \"multi_match\": {\n",
    "                        \"query\": query,\n",
    "                        \"fields\": [\"question^4\", \"text\"],\n",
    "                        \"type\": \"best_fields\",\n",
    "                    }\n",
    "                },\n",
    "                \"filter\": {\"term\": {\"course\": course}},\n",
    "            }\n",
    "        },\n",
    "    }\n",
    "\n",
    "    response = es.search(index=index_name, body=search_query)\n",
    "    documents = [\n",
    "        {\n",
    "            \"score\": hit[\"_score\"],\n",
    "            \"question\": hit[\"_source\"][\"question\"],\n",
    "            \"section\": hit[\"_source\"][\"section\"],\n",
    "            \"text\": hit[\"_source\"][\"text\"],\n",
    "        }\n",
    "        for hit in response[\"hits\"][\"hits\"]\n",
    "    ]\n",
    "    return documents\n"
   ]
  },
  {
   "cell_type": "code",
   "execution_count": 20,
   "metadata": {},
   "outputs": [],
   "source": [
    "query = \"How do execute a command on a Kubernetes pod?\"\n",
    "results = retrieve_documents(query)\n",
    "\n",
    "for i, doc in enumerate(results, 1):\n",
    "    print(f\"{i}. Score: {doc['score']:.2f}\")\n",
    "    print(f\"   Question: {doc['question']}\")\n",
    "    print(f\"   Section: {doc['section']}\")\n",
    "    print(f\"   Text: {doc['text'][:100]}...\\n\")\n"
   ]
  },
  {
   "cell_type": "code",
   "execution_count": 21,
   "metadata": {},
   "outputs": [],
   "source": [
    "query = \"How do copy a file to a Docker container?\"\n",
    "results = retrieve_documents(query)\n",
    "\n",
    "for i, doc in enumerate(results, 1):\n",
    "    print(f\"{i}. Score: {doc['score']:.2f}\")\n",
    "    print(f\"   Question: {doc['question']}\")\n",
    "    print(f\"   Section: {doc['section']}\")\n",
    "    print(f\"   Text: {doc['text'][:100]}...\\n\")"
   ]
  },
  {
   "cell_type": "code",
   "execution_count": 23,
   "metadata": {},
   "outputs": [
    {
     "name": "stdout",
     "output_type": "stream",
     "text": [
      "Prompt length: 244\n"
     ]
    }
   ],
   "source": [
    "context_template = \"\"\"\n",
    "Q: {question}\n",
    "A: {text}\n",
    "\"\"\".strip()\n",
    "\n",
    "context = \"\\n\\n\".join(\n",
    "    context_template.format(question=doc[\"question\"], text=doc[\"text\"])\n",
    "    for doc in results\n",
    ")\n",
    "\n",
    "target_question = \"How do I execute a command in a running docker container?\"\n",
    "\n",
    "prompt_template = \"\"\"\n",
    "You're a course teaching assistant. Answer the QUESTION based on the CONTEXT from the FAQ database.\n",
    "Use only the facts from the CONTEXT when answering the QUESTION.\n",
    "\n",
    "QUESTION: {question}\n",
    "\n",
    "CONTEXT:\n",
    "{context}\n",
    "\"\"\".strip()\n",
    "\n",
    "prompt = prompt_template.format(question=target_question, context=context)\n",
    "\n",
    "print(\"Prompt length:\", len(prompt))"
   ]
  },
  {
   "cell_type": "code",
   "execution_count": 24,
   "metadata": {},
   "outputs": [
    {
     "data": {
      "text/plain": [
       "49"
      ]
     },
     "execution_count": 24,
     "metadata": {},
     "output_type": "execute_result"
    }
   ],
   "source": [
    "import tiktoken\n",
    "\n",
    "encoding = tiktoken.encoding_for_model(\"gpt-4o\")\n",
    "len(encoding.encode(prompt))"
   ]
  },
  {
   "cell_type": "code",
   "execution_count": 26,
   "metadata": {},
   "outputs": [],
   "source": [
    "prompt2 = \"\"\"\n",
    "Improve this code:\n",
    "\n",
    "from elasticsearch import Elasticsearch\n",
    "from openai import OpenAI\n",
    "\n",
    "from llm_rag_workshop.settings import OPENAI_API_KEY\n",
    "\n",
    "es = Elasticsearch(\"http://localhost:9200\")\n",
    "index_name = \"course-questions\"\n",
    "\n",
    "client = OpenAI(api_key=OPENAI_API_KEY)\n",
    "\n",
    "\n",
    "def ask_openai(prompt, model=\"gpt-4o\"):\n",
    "    print(f\"Asking OpenAI with {model} model...\")\n",
    "    completion = client.chat.completions.create(\n",
    "        model=model, messages=[{\"role\": \"user\", \"content\": prompt}]\n",
    "    )\n",
    "    print(completion)\n",
    "    content = completion.choices[0].message.content.strip()\n",
    "    return content\n",
    "\n",
    "\n",
    "def build_prompt(question, context):\n",
    "    prompt = fAnswer the following question based on the provided context:\n",
    "    \n",
    "    Question: {question}\n",
    "    Context: {context}\n",
    "    \n",
    "    Answer:\n",
    "    \n",
    "\n",
    "    return ask_openai(prompt)\n",
    "\n",
    "\n",
    "def retrieve_documents(\n",
    "    query,\n",
    "    index_name=\"course-questions\",\n",
    "    max_results=5,\n",
    "    course=\"data-engineering-zoomcamp\",\n",
    "):\n",
    "    search_query = {\n",
    "        \"size\": max_results,\n",
    "        \"query\": {\n",
    "            \"bool\": {\n",
    "                \"must\": {\n",
    "                    \"multi_match\": {\n",
    "                        \"query\": query,\n",
    "                        \"fields\": [\"question^3\", \"text\", \"section\"],\n",
    "                        \"type\": \"best_fields\",\n",
    "                    }\n",
    "                },\n",
    "                \"filter\": {\"term\": {\"course\": course}},\n",
    "            }\n",
    "        },\n",
    "    }\n",
    "\n",
    "    response = es.search(index=index_name, body=search_query)\n",
    "    documents = [hit[\"_source\"] for hit in response[\"hits\"][\"hits\"]]\n",
    "    return documents\n",
    "\n",
    "\n",
    "def qa_bot(user_question, course=\"data-engineering-zoomcamp\"):\n",
    "    context_docs = retrieve_documents(user_question, course=course)\n",
    "    prompt = build_prompt(user_question, context_docs)\n",
    "    answer = ask_openai(prompt)\n",
    "    return answer\n",
    "\"\"\"\n"
   ]
  },
  {
   "cell_type": "code",
   "execution_count": null,
   "metadata": {},
   "outputs": [],
   "source": []
  },
  {
   "cell_type": "code",
   "execution_count": 31,
   "metadata": {},
   "outputs": [
    {
     "name": "stdout",
     "output_type": "stream",
     "text": [
      "→ Subword tokens: ['How', 'Ġdo', 'ĠI', 'Ġexecute', 'Ġa', 'Ġcommand', 'Ġin', 'Ġa', 'Ġrunning', 'Ġdocker', 'Ġcontainer', '?']\n",
      "\n",
      "→ Token IDs: [4117, 696, 342, 22218, 260, 6107, 295, 260, 6934, 63751, 15012, 33]\n",
      "\n",
      "→ tokenizer.encode(...) result: [0, 4117, 696, 342, 22218, 260, 6107, 295, 260, 6934, 63751, 15012, 33]\n",
      "\n",
      "→ Decode IDs back to text: How do I execute a command in a running docker container?\n"
     ]
    },
    {
     "data": {
      "text/plain": [
       "12"
      ]
     },
     "execution_count": 31,
     "metadata": {},
     "output_type": "execute_result"
    }
   ],
   "source": [
    "from transformers import AutoTokenizer\n",
    "\n",
    "# Load DeepSeek's tokenizer\n",
    "tokenizer = AutoTokenizer.from_pretrained(\"deepseek-ai/DeepSeek-R1-0528\")\n",
    "\n",
    "\n",
    "def count_deepseek_tokens(text: str) -> int:\n",
    "    tokens = tokenizer.tokenize(text)\n",
    "    print(\"→ Subword tokens:\", tokens)\n",
    "    token_ids = tokenizer.convert_tokens_to_ids(tokens)\n",
    "    print(\"\\n→ Token IDs:\", token_ids)\n",
    "    print(\"\\n→ tokenizer.encode(...) result:\", tokenizer.encode(text))\n",
    "    print(\"\\n→ Decode IDs back to text:\", tokenizer.decode(token_ids))\n",
    "    return len(tokens)\n",
    "\n",
    "count_deepseek_tokens(\"How do I execute a command in a running docker container?\")"
   ]
  },
  {
   "cell_type": "code",
   "execution_count": 28,
   "metadata": {},
   "outputs": [],
   "source": [
    "from openai import OpenAI\n",
    "from llm_rag_workshop.settings import OPENAI_API_KEY\n",
    "\n",
    "client = OpenAI(api_key=OPENAI_API_KEY)\n",
    "\n",
    "\n",
    "def ask_openai(prompt, model=\"gpt-4o\"):\n",
    "    print(f\"Asking OpenAI with {model} model...\")\n",
    "    completion = client.chat.completions.create(\n",
    "        model=model, messages=[{\"role\": \"user\", \"content\": prompt}]\n",
    "    )\n",
    "    print(completion)\n",
    "    content = completion.choices[0].message.content.strip()\n",
    "    return content\n"
   ]
  },
  {
   "cell_type": "code",
   "execution_count": 29,
   "metadata": {},
   "outputs": [
    {
     "name": "stdout",
     "output_type": "stream",
     "text": [
      "Asking OpenAI with gpt-4o model...\n",
      "ChatCompletion(id='chatcmpl-Bfl23jN3OtMFOo28PLwPpMTsI1Fyf', choices=[Choice(finish_reason='stop', index=0, logprobs=None, message=ChatCompletionMessage(content='To execute a command in a running Docker container, you can use the `docker exec` command. The general syntax is: \\n\\n```\\ndocker exec [OPTIONS] <container_name_or_id> <command>\\n```\\n\\nFor example, if you want to open a bash shell in a running container named `my_container`, you would use:\\n\\n```\\ndocker exec -it my_container /bin/bash\\n```\\n\\nHere, `-it` allows you to interactively run commands inside the container. You can replace `/bin/bash` with any other command you wish to execute inside the container.', refusal=None, role='assistant', annotations=[], audio=None, function_call=None, tool_calls=None))], created=1749291939, model='gpt-4o-2024-08-06', object='chat.completion', service_tier='default', system_fingerprint='fp_07871e2ad8', usage=CompletionUsage(completion_tokens=118, prompt_tokens=56, total_tokens=174, completion_tokens_details=CompletionTokensDetails(accepted_prediction_tokens=0, audio_tokens=0, reasoning_tokens=0, rejected_prediction_tokens=0), prompt_tokens_details=PromptTokensDetails(audio_tokens=0, cached_tokens=0)))\n"
     ]
    }
   ],
   "source": [
    "answer = ask_openai(prompt)\n"
   ]
  },
  {
   "cell_type": "markdown",
   "metadata": {},
   "source": [
    "I'll use the above query actual token numbers to calculate cost of 1000 requests:\n",
    "\n",
    "```bash\n",
    "usage=CompletionUsage(\n",
    "    completion_tokens=118,\n",
    "    prompt_tokens=56,\n",
    "    total_tokens=174,\n",
    ")\n",
    "```\n",
    "\n",
    "Input tokens (prompt_tokens): `118`\n",
    "Output tokens (completion_tokens): `56`\n",
    "Total: `174`\n",
    "\n",
    "Input (118 tokens @ $0.005/1K):\n",
    "118 ÷ 1000 × 0.005 = \n",
    "\n",
    "Output (72 tokens @ $0.015/1K):\n",
    "56 ÷ 1000 × 0.015 = \n",
    "\n",
    "Input + Output = Total cost\n",
    "\n",
    "So this single call cost approximately {Total cost}.\n",
    "\n",
    "`{Total cost}` for 1000 requests"
   ]
  }
 ],
 "metadata": {
  "kernelspec": {
   "display_name": ".venv",
   "language": "python",
   "name": "python3"
  },
  "language_info": {
   "codemirror_mode": {
    "name": "ipython",
    "version": 3
   },
   "file_extension": ".py",
   "mimetype": "text/x-python",
   "name": "python",
   "nbconvert_exporter": "python",
   "pygments_lexer": "ipython3",
   "version": "3.13.3"
  }
 },
 "nbformat": 4,
 "nbformat_minor": 4
}
