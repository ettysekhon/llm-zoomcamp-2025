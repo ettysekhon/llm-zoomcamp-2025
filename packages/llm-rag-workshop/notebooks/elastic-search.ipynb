{
 "cells": [
  {
   "cell_type": "code",
   "execution_count": 2,
   "metadata": {},
   "outputs": [],
   "source": [
    "import json"
   ]
  },
  {
   "cell_type": "code",
   "execution_count": 4,
   "metadata": {},
   "outputs": [],
   "source": [
    "with open(\"./documents.json\", \"rt\") as f_in:\n",
    "    documents_file = json.load(f_in)\n"
   ]
  },
  {
   "cell_type": "code",
   "execution_count": 5,
   "metadata": {},
   "outputs": [
    {
     "data": {
      "text/plain": [
       "{'text': \"Data Engineering Zoomcamp FAQ\\nData Engineering Zoomcamp FAQ\\nThe purpose of this document is to capture Frequently asked technical questions\\nEditing guidelines:\\nWhen adding a new FAQ entry, make sure the question is “Heading 2”\\nFeel free to improve if you see something is off\\nDon’t change the formatting in the Data document or add any visual “improvements” (make a copy for yourself first if you need to do it for whatever reason)\\nDon’t change the pages format (it should be “pageless”)\\nAdd name and date for reference, if possible\\nThe next cohort starts January 13th 2025. More info at DTC.\\nRegister before the course starts using this link.\\nJoint the course Telegram channel with announcements.\\nDon’t forget to register in DataTalks.Club's Slack and join the channel.\",\n",
       " 'section': 'General course-related questions',\n",
       " 'question': 'Course - When does the course start?'}"
      ]
     },
     "execution_count": 5,
     "metadata": {},
     "output_type": "execute_result"
    }
   ],
   "source": [
    "documents_file[0][\"documents\"][0]\n"
   ]
  },
  {
   "cell_type": "code",
   "execution_count": 6,
   "metadata": {},
   "outputs": [],
   "source": [
    "documents = []\n",
    "\n",
    "for course in documents_file:\n",
    "    course_name = course[\"course\"]\n",
    "\n",
    "    for doc in course[\"documents\"]:\n",
    "        doc[\"course\"] = course_name\n",
    "        documents.append(doc)\n"
   ]
  },
  {
   "cell_type": "code",
   "execution_count": null,
   "metadata": {},
   "outputs": [
    {
     "name": "stdout",
     "output_type": "stream",
     "text": [
      "✔ ES reachable\n"
     ]
    }
   ],
   "source": [
    "import time\n",
    "from elasticsearch import Elasticsearch, ConnectionError\n",
    "\n",
    "es = Elasticsearch(\"http://localhost:9200\")\n",
    "index_name = \"course-questions\"\n",
    "\n",
    "for _ in range(30):\n",
    "    try:\n",
    "        if es.ping():\n",
    "            print(\"✔ ES reachable\")\n",
    "            break\n",
    "    except ConnectionError:\n",
    "        pass\n",
    "    print(\"…waiting for ping()…\")\n",
    "    time.sleep(1)\n",
    "else:\n",
    "    raise RuntimeError(\"ES did not respond to ping in 30s\")"
   ]
  },
  {
   "cell_type": "code",
   "execution_count": 47,
   "metadata": {},
   "outputs": [
    {
     "name": "stdout",
     "output_type": "stream",
     "text": [
      "✔ Index 'course-questions' already exists.\n"
     ]
    }
   ],
   "source": [
    "if not es.indices.exists(index=\"course-questions\"):\n",
    "    print(\"Index 'course-questions' does not exist—creating it now.\")\n",
    "    index_settings = {\n",
    "        \"settings\": {\"number_of_shards\": 1, \"number_of_replicas\": 0},\n",
    "        \"mappings\": {\n",
    "            \"properties\": {\n",
    "                \"text\": {\"type\": \"text\"},\n",
    "                \"section\": {\"type\": \"text\"},\n",
    "                \"question\": {\"type\": \"text\"},\n",
    "                \"course\": {\"type\": \"keyword\"},\n",
    "            }\n",
    "        },\n",
    "    }\n",
    "    es.indices.create(index=\"course-questions\", body=index_settings)\n",
    "    print(\"✔ Created index 'course-questions'\")\n",
    "else:\n",
    "    print(\"✔ Index 'course-questions' already exists.\")\n"
   ]
  },
  {
   "cell_type": "code",
   "execution_count": 48,
   "metadata": {},
   "outputs": [
    {
     "name": "stdout",
     "output_type": "stream",
     "text": [
      "Index 'course-questions' is now 'green'\n"
     ]
    }
   ],
   "source": [
    "health = es.cluster.health(\n",
    "    index=\"course-questions\",\n",
    "    wait_for_status=\"yellow\",\n",
    "    timeout=\"30s\",\n",
    "    level=\"indices\",\n",
    ")\n",
    "status = health[\"indices\"][\"course-questions\"][\"status\"]\n",
    "print(f\"Index 'course-questions' is now {status!r}\")\n",
    "\n",
    "if status not in (\"yellow\", \"green\"):\n",
    "    raise RuntimeError(f\"Index stayed {status!r} after waiting 30 seconds.\")\n"
   ]
  },
  {
   "cell_type": "code",
   "execution_count": 49,
   "metadata": {},
   "outputs": [
    {
     "name": "stdout",
     "output_type": "stream",
     "text": [
      "Current blocks.read_only_allow_delete flag: None\n"
     ]
    }
   ],
   "source": [
    "settings = es.indices.get_settings(index=\"course-questions\")\n",
    "readonly_flag = settings[\"course-questions\"][\"settings\"][\"index\"].get(\n",
    "    \"blocks.read_only_allow_delete\"\n",
    ")\n",
    "print(\"Current blocks.read_only_allow_delete flag:\", readonly_flag)\n"
   ]
  },
  {
   "cell_type": "code",
   "execution_count": 50,
   "metadata": {},
   "outputs": [
    {
     "name": "stdout",
     "output_type": "stream",
     "text": [
      "Successfully indexed 1217 documents into 'course-questions'.\n"
     ]
    }
   ],
   "source": [
    "from elasticsearch.helpers import bulk, BulkIndexError\n",
    "\n",
    "actions = [{\"_index\": \"course-questions\", \"_source\": doc} for doc in documents]\n",
    "es_with_timeout = es.options(request_timeout=600)\n",
    "\n",
    "try:\n",
    "    success_count, errors = bulk(\n",
    "        client=es_with_timeout,\n",
    "        actions=actions,\n",
    "        chunk_size=500,\n",
    "    )\n",
    "    print(f\"Successfully indexed {success_count} documents into 'course-questions'.\")\n",
    "    if errors:\n",
    "        print(\"Bulk returned errors (unexpected):\")\n",
    "        for err in errors[:5]:  # show up to the first 5\n",
    "            print(err)\n",
    "except BulkIndexError as bulk_err:\n",
    "    print(f\"Bulk indexing failed: {bulk_err.args[0]}\")\n",
    "    for i, item_err in enumerate(bulk_err.errors[:10], start=1):\n",
    "        print(f\"\\nError #{i}:\")\n",
    "        print(item_err)\n",
    "    raise\n"
   ]
  },
  {
   "cell_type": "code",
   "execution_count": 51,
   "metadata": {},
   "outputs": [
    {
     "name": "stdout",
     "output_type": "stream",
     "text": [
      "Total documents in 'course-questions': 2434\n"
     ]
    }
   ],
   "source": [
    "doc_count_response = es.count(index=\"course-questions\")\n",
    "count = doc_count_response[\"count\"]\n",
    "print(f\"Total documents in 'course-questions': {count}\")\n"
   ]
  },
  {
   "cell_type": "code",
   "execution_count": 55,
   "metadata": {},
   "outputs": [],
   "source": [
    "def retrieve_documents(query, index_name=\"course-questions\", max_results=5):\n",
    "    search_query = {\n",
    "        \"size\": max_results,\n",
    "        \"query\": {\n",
    "            \"bool\": {\n",
    "                \"must\": {\n",
    "                    \"multi_match\": {\n",
    "                        \"query\": query,\n",
    "                        \"fields\": [\"question^3\", \"text\", \"section\"],\n",
    "                        \"type\": \"best_fields\",\n",
    "                    }\n",
    "                },\n",
    "                \"filter\": {\"term\": {\"course\": \"data-engineering-zoomcamp\"}},\n",
    "            }\n",
    "        },\n",
    "    }\n",
    "\n",
    "    response = es.search(index=index_name, body=search_query)\n",
    "    documents = [hit[\"_source\"] for hit in response[\"hits\"][\"hits\"]]\n",
    "    return documents\n"
   ]
  },
  {
   "cell_type": "code",
   "execution_count": 56,
   "metadata": {},
   "outputs": [
    {
     "name": "stdout",
     "output_type": "stream",
     "text": [
      "Section: General course-related questions\n",
      "Question: Course - Can I still join the course after the start date?\n",
      "Answer: Yes, even if you don't register, you're still eligible to submit the homework.\n",
      "Be aware, however, that there will be deadlines for turning in homeworks and the final projects. So don't leave everything for the last minute.\n",
      "\n",
      "\n",
      "Section: General course-related questions\n",
      "Question: Course - Can I still join the course after the start date?\n",
      "Answer: Yes, even if you don't register, you're still eligible to submit the homework.\n",
      "Be aware, however, that there will be deadlines for turning in homeworks and the final projects. So don't leave everything for the last minute.\n",
      "\n",
      "\n",
      "Section: General course-related questions\n",
      "Question: Course - Can I follow the course after it finishes?\n",
      "Answer: Yes, we will keep all the materials after the course finishes, so you can follow the course at your own pace after it finishes.\n",
      "You can also continue looking at the homeworks and continue preparing for the next cohort. I guess you can also start working on your final capstone project.\n",
      "\n",
      "\n",
      "Section: General course-related questions\n",
      "Question: Course - Can I follow the course after it finishes?\n",
      "Answer: Yes, we will keep all the materials after the course finishes, so you can follow the course at your own pace after it finishes.\n",
      "You can also continue looking at the homeworks and continue preparing for the next cohort. I guess you can also start working on your final capstone project.\n",
      "\n",
      "\n",
      "Section: General course-related questions\n",
      "Question: Course - What can I do before the course starts?\n",
      "Answer: Start by installing and setting up all the dependencies and requirements:\n",
      "Google cloud account\n",
      "Google Cloud SDK\n",
      "Python 3 (installed with Anaconda)\n",
      "Terraform\n",
      "Git\n",
      "Look over the prerequisites and syllabus to see if you are comfortable with these subjects.\n",
      "\n",
      "\n"
     ]
    }
   ],
   "source": [
    "user_question = \"How do I join the course after it has started?\"\n",
    "\n",
    "response = retrieve_documents(user_question)\n",
    "\n",
    "for doc in response:\n",
    "    print(\n",
    "        f\"Section: {doc['section']}\\nQuestion: {doc['question']}\\nAnswer: {doc['text']}\\n\\n\"\n",
    "    )\n"
   ]
  },
  {
   "cell_type": "code",
   "execution_count": 74,
   "metadata": {},
   "outputs": [],
   "source": [
    "from llm_rag_workshop.settings import OPENAI_API_KEY\n",
    "from openai import OpenAI\n",
    "\n",
    "client = OpenAI(api_key=OPENAI_API_KEY)\n",
    "\n",
    "\n",
    "def ask_openai(prompt, model=\"gpt-4o\"):\n",
    "    print(f\"Asking OpenAI with {model} model...\")\n",
    "    completion = client.chat.completions.create(\n",
    "        model=model, messages=[{\"role\": \"user\", \"content\": prompt}]\n",
    "    )\n",
    "    print(completion)\n",
    "    content = completion.choices[0].message.content.strip()\n",
    "    return content\n"
   ]
  },
  {
   "cell_type": "code",
   "execution_count": 75,
   "metadata": {},
   "outputs": [],
   "source": [
    "\n",
    "def build_prompt(question, context):\n",
    "    prompt = f\"\"\"\n",
    "    Answer the following question based on the provided context:\n",
    "    \n",
    "    Question: {question}\n",
    "    Context: {context}\n",
    "    \n",
    "    Answer:\n",
    "    \"\"\" \n",
    "\n",
    "    return ask_openai(prompt)"
   ]
  },
  {
   "cell_type": "code",
   "execution_count": 76,
   "metadata": {},
   "outputs": [],
   "source": [
    "def qa_bot(user_question):\n",
    "    context_docs = retrieve_documents(user_question)\n",
    "    prompt = build_prompt(user_question, context_docs)\n",
    "    answer = ask_openai(prompt)\n",
    "    return answer\n"
   ]
  },
  {
   "cell_type": "code",
   "execution_count": 77,
   "metadata": {},
   "outputs": [
    {
     "name": "stdout",
     "output_type": "stream",
     "text": [
      "Asking OpenAI with gpt-4o model...\n",
      "ChatCompletion(id='chatcmpl-BdOlaQFdQKzzwwbrSozCFvRWpTHTt', choices=[Choice(finish_reason='stop', index=0, logprobs=None, message=ChatCompletionMessage(content=\"Based on the provided context, there are several potential solutions to your problem of not being able to connect to the PostgreSQL database on port 5432 due to password issues:\\n\\n1. **Port Conflict**: Ensure that the port 5432 is not being used by another instance of PostgreSQL or any other application. If it is, you could stop the existing service that is using this port or change the port number for your current instance.\\n\\n2. **Service Management on Windows**: If you're on Windows, check if a PostgreSQL service is running that might be conflicting with your current setup:\\n   - Press `Win + R`, type `services.msc`, and press Enter.\\n   - Look for services like `PostgreSQL` and stop them if necessary.\\n\\n3. **Change Port**: If the port is still being used by another instance, consider changing your PostgreSQL connection port from `5432` to another unused port, such as `5431`.\\n\\n4. **Docker Settings**: If you are using Docker, ensure that your Docker setup is not interfering. Steps mentioned include:\\n   - If you're using `docker-compose`, you might want to use a different port mapping like changing from `5432:5432` to `5431:5432`.\\n\\n5. **Authentication Issues**: If the problem is related to password authentication, double-check the username and password you are using. Consider resetting the password if necessary.\\n\\n6. **Service Stopping**: Make sure to stop any unnecessary PostgreSQL services running locally that might be using resources or causing conflicts.\\n\\nEnsure that these configurations align with your specific environment setup and follow these steps according to your operating system (e.g., commands might differ between Linux and Windows).\", refusal=None, role='assistant', annotations=[], audio=None, function_call=None, tool_calls=None))], created=1748729694, model='gpt-4o-2024-08-06', object='chat.completion', service_tier='default', system_fingerprint='fp_07871e2ad8', usage=CompletionUsage(completion_tokens=350, prompt_tokens=1221, total_tokens=1571, completion_tokens_details=CompletionTokensDetails(accepted_prediction_tokens=0, audio_tokens=0, reasoning_tokens=0, rejected_prediction_tokens=0), prompt_tokens_details=PromptTokensDetails(audio_tokens=0, cached_tokens=0)))\n",
      "Asking OpenAI with gpt-4o model...\n",
      "ChatCompletion(id='chatcmpl-BdOlfHZKvTZqeOGN9zeyFXStTe9Ov', choices=[Choice(finish_reason='stop', index=0, logprobs=None, message=ChatCompletionMessage(content=\"Given the context you've provided, it seems like you're encountering issues connecting to a PostgreSQL database, potentially due to password or port conflicts. Here’s a breakdown of solutions and checks you can perform:\\n\\n1. **Check for Port Conflicts**:\\n   - Ensure no other applications or instances of PostgreSQL are using port 5432. You can use command-line tools like `netstat` on Linux (`sudo netstat -tuln | grep 5432`) or Windows (`netstat -a -n | findstr 5432`) to see what's using that port.\\n\\n2. **Manage Services on Windows**:\\n   - Use the `Services` console to check for running PostgreSQL services. Stop any that are conflicting with your desired PostgreSQL setup.\\n\\n3. **Change the Port**:\\n   - If another application uses port 5432, consider changing the port in your `postgresql.conf` file:\\n     - Find and open the `postgresql.conf` file.\\n     - Change the line `#port = 5432` to `port = 5431` or another available port.\\n     - Restart the PostgreSQL service for the changes to take effect.\\n\\n4. **Docker Configuration**:\\n   - When using Docker, check your `docker-compose.yml` or related configuration files:\\n     - Adjust the port mapping like `5431:5432` if the default mapping is causing issues.\\n\\n5. **Authentication Issues**:\\n   - Verify the credentials (username and password) you are using for PostgreSQL. If you suspect they might be incorrect, reset the password using:\\n     - `ALTER USER yourusername WITH PASSWORD 'newpassword';` via `psql` command line or a database admin tool.\\n   - Ensure your `pg_hba.conf` file is configured correctly to allow your desired authentication method (e.g., `md5` for password-based authentication).\\n\\n6. **Stop Unnecessary Services**:\\n   - Besides checking for services on Windows, if you're on Linux, use:\\n     - `sudo systemctl list-units --type=service | grep postgresql` \\n     - Stop unwanted services with `sudo systemctl stop postgresql@version-main`.\\n\\nImplement the steps above according to your environment, and verify each solution based on whether you're working on Windows, Linux, or within a Docker container. This should help resolve your PostgreSQL connection issues.\", refusal=None, role='assistant', annotations=[], audio=None, function_call=None, tool_calls=None))], created=1748729699, model='gpt-4o-2024-08-06', object='chat.completion', service_tier='default', system_fingerprint='fp_07871e2ad8', usage=CompletionUsage(completion_tokens=483, prompt_tokens=357, total_tokens=840, completion_tokens_details=CompletionTokensDetails(accepted_prediction_tokens=0, audio_tokens=0, reasoning_tokens=0, rejected_prediction_tokens=0), prompt_tokens_details=PromptTokensDetails(audio_tokens=0, cached_tokens=0)))\n"
     ]
    },
    {
     "data": {
      "text/plain": [
       "\"Given the context you've provided, it seems like you're encountering issues connecting to a PostgreSQL database, potentially due to password or port conflicts. Here’s a breakdown of solutions and checks you can perform:\\n\\n1. **Check for Port Conflicts**:\\n   - Ensure no other applications or instances of PostgreSQL are using port 5432. You can use command-line tools like `netstat` on Linux (`sudo netstat -tuln | grep 5432`) or Windows (`netstat -a -n | findstr 5432`) to see what's using that port.\\n\\n2. **Manage Services on Windows**:\\n   - Use the `Services` console to check for running PostgreSQL services. Stop any that are conflicting with your desired PostgreSQL setup.\\n\\n3. **Change the Port**:\\n   - If another application uses port 5432, consider changing the port in your `postgresql.conf` file:\\n     - Find and open the `postgresql.conf` file.\\n     - Change the line `#port = 5432` to `port = 5431` or another available port.\\n     - Restart the PostgreSQL service for the changes to take effect.\\n\\n4. **Docker Configuration**:\\n   - When using Docker, check your `docker-compose.yml` or related configuration files:\\n     - Adjust the port mapping like `5431:5432` if the default mapping is causing issues.\\n\\n5. **Authentication Issues**:\\n   - Verify the credentials (username and password) you are using for PostgreSQL. If you suspect they might be incorrect, reset the password using:\\n     - `ALTER USER yourusername WITH PASSWORD 'newpassword';` via `psql` command line or a database admin tool.\\n   - Ensure your `pg_hba.conf` file is configured correctly to allow your desired authentication method (e.g., `md5` for password-based authentication).\\n\\n6. **Stop Unnecessary Services**:\\n   - Besides checking for services on Windows, if you're on Linux, use:\\n     - `sudo systemctl list-units --type=service | grep postgresql` \\n     - Stop unwanted services with `sudo systemctl stop postgresql@version-main`.\\n\\nImplement the steps above according to your environment, and verify each solution based on whether you're working on Windows, Linux, or within a Docker container. This should help resolve your PostgreSQL connection issues.\""
      ]
     },
     "execution_count": 77,
     "metadata": {},
     "output_type": "execute_result"
    }
   ],
   "source": [
    "qa_bot(\"I can't connect to postgres port 5432, my password doesn't work\")"
   ]
  }
 ],
 "metadata": {
  "kernelspec": {
   "display_name": ".venv",
   "language": "python",
   "name": "python3"
  },
  "language_info": {
   "codemirror_mode": {
    "name": "ipython",
    "version": 3
   },
   "file_extension": ".py",
   "mimetype": "text/x-python",
   "name": "python",
   "nbconvert_exporter": "python",
   "pygments_lexer": "ipython3",
   "version": "3.13.3"
  }
 },
 "nbformat": 4,
 "nbformat_minor": 2
}
